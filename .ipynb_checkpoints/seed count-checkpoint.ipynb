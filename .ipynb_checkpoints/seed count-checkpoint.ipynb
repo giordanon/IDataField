{
 "cells": [
  {
   "cell_type": "code",
   "execution_count": 1,
   "metadata": {},
   "outputs": [],
   "source": [
    "import matplotlib.pyplot as plt\n",
    "import matplotlib.image as mpimg\n",
    "from skimage.color import rgb2gray, label2rgb\n",
    "from skimage.filters import threshold_otsu\n",
    "from skimage.morphology import area_opening, disk, binary_closing\n",
    "from skimage.measure import find_contours, label, regionprops_table"
   ]
  },
  {
   "cell_type": "code",
   "execution_count": 6,
   "metadata": {},
   "outputs": [],
   "source": [
    "\n",
    "folderpath = 'seeds/'\n",
    "filename = folderpath + 'seeds.jpg'\n",
    "RGB = mpimg.imread(filename)\n",
    "I = rgb2gray(RGB)\n",
    "# Apply Otsu's method\n",
    "global_threshold  = threshold_otsu(I)\n",
    "BW = I < global_threshold\n",
    "#Smoothing \n",
    "#Remove small areas\n",
    "BW = area_opening(BW, area_threshold = 1000, connectivity=2)\n",
    "# CLosing operation (Connects small patches of True pixels)\n",
    "BW = binary_closing(BW, disk(5))\n",
    "contours = find_contours(BW,0)\n",
    "\n",
    "seed_num = len(contours)"
   ]
  }
 ],
 "metadata": {
  "kernelspec": {
   "display_name": "Python 3",
   "language": "python",
   "name": "python3"
  },
  "language_info": {
   "codemirror_mode": {
    "name": "ipython",
    "version": 3
   },
   "file_extension": ".py",
   "mimetype": "text/x-python",
   "name": "python",
   "nbconvert_exporter": "python",
   "pygments_lexer": "ipython3",
   "version": "3.8.5"
  }
 },
 "nbformat": 4,
 "nbformat_minor": 4
}
