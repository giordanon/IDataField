{
 "cells": [
  {
   "cell_type": "markdown",
   "metadata": {},
   "source": [
    "# <center>  KSU WHEAT LABELS GEN & DATA UPLOADING APPS </center>\n",
    " ### <center> Deployment: **Nicolas Giordano** <center>\n",
    " ##### <center> Guidance and contributions: **Andres Patrignani, PhD** <center>\n",
    " \n",
    "Welcome, Bem-vindo, Bienvenido to **KSU WHEAT LABELS GEN & DATA UPLOADING APPS**!!\n",
    "\n",
    "This apps were deployed as part of the semester projet for AGRON 845 at Kansas State University.\n",
    "\n",
    "If you are reading this tutorial it is because probably is your first time in running the apps or you found some issues!. Any issues, debugs can be reported to Nicolas Giordano at ngiordano@ksu.edu.\n",
    "\n",
    "A video tutorial on [how to use KSU WHEAT App](https://youtu.be/oZspneaWIgI) is uploaded in YouTube "
   ]
  },
  {
   "cell_type": "markdown",
   "metadata": {},
   "source": [
    " ## Libraries instalation\n",
    " \n",
    "If this is your first time running the app in your computer you should install the following libraries below "
   ]
  },
  {
   "cell_type": "code",
   "execution_count": null,
   "metadata": {
    "tags": []
   },
   "outputs": [],
   "source": [
    "!pip install streamlit\n",
    "!pip install pandas\n",
    "!pip install qrcode\n",
    "!pip install reportlab\n",
    "!pip install PyPDF2\n",
    "!pip install numpy\n",
    "!pip install streamlit_option_menu\n",
    "!pip install streamlit_multipage\n",
    "!pip install matplotlib"
   ]
  },
  {
   "cell_type": "markdown",
   "metadata": {
    "jp-MarkdownHeadingCollapsed": true,
    "tags": []
   },
   "source": [
    "## Running the app\n",
    "\n",
    "Once all the requiered libraries were correctly loaded, let's proceed running the app.\n",
    "\n",
    "   1. Open a new terminal. For opening a new terminal, go the top left corner of Python console click on 'File' -> 'New'->'Terminal'\n",
    "  \n",
    "   2. You will be requiered to navigate across your directories using terminal commands. A quick guide on how to navigate the directory can be found following this [link](https://riptutorial.com/terminal/example/26023/basic-navigation-commands). You will need to place you directory in the folder in which the app files are located. If you paste this folder in your hard drive :C your terminal command should look like :\n",
    "        <code> C:\\KSU-WHEAT-APP> </code>\n",
    "   3. Once you succesfully reached the correct folder you will need to run the following command:\n",
    "        <code> streamlit run main.py </code>\n",
    "   4. The aforementioned command should automatically launch the app. However if it does not lauch automatically you can use any of the links provided: \n",
    "        \n",
    "        <code> Local URL: http://localhost:8503<code>\n",
    "        <code> Network URL: http://129.130.90.72:8503<code>\n",
    "   5. If you are accesing the app through your cell phone or through a different IP address as the one the computer from the lab is connected you should run the 'Network URL' link. This is important, otherwise tha app will not run.          \n",
    "     "
   ]
  },
  {
   "cell_type": "markdown",
   "metadata": {},
   "source": [
    "## Surfing the app!\n",
    "\n",
    "### Labels Generator App\n",
    "\n",
    "   This app was deployed with the objective of having a unique identifier for each of the samples we generate in our laboratory. Shortly, this app generates a label of the following format: \n",
    "   <center>**TRIAL-LOCATION-YEAR-TIME OF SAMPLING-PLOT NUMBER**<center>\n",
    "   \n",
    "  The first step is to lauch the generator by loading the file named **LABELS_INPUT**.This file is contained in the app folder, or cna be loaded from a different directory. The uploader supports two different formats <code> .csv & .xlsx <code>\n",
    "    \n",
    "   By clicking on **GENERATE LABELS** the software will automatically generate labels for the trials uploaded in the LABELS file. We are currently working on develpoment of a tool for systematically upload the information to the LABELS file. This will allow us to be consistent on the way we generate information across the following years. \n",
    "    \n",
    "   Next step is to apply filters depending on the labels the user needs to print. Right after, specify the file name you want to save the labels in\n",
    "    \n",
    "   By clickng on **DOWNLOAD LABELS** a pdf file will be generated containing the labels you generated. \n",
    "    "
   ]
  },
  {
   "cell_type": "markdown",
   "metadata": {},
   "source": [
    "### Data Uploading App\n",
    "    \n",
    "   The following app can be used for uploading data generated during data collection for **wheat yield components determination**. A QR code scanner is required for making correct use of this app. If you are having struggles in making the QR scanner work please visit this website. If by any chance the QR scanner stops working you can get a new one [here](https://www.amazon.com/dp/B0855MQ9Y6/ref=redir_mobile_desktop?_encoding=UTF8&aaxitk=b833172e9fc3f01c4b1be96d907c0a82&hsa_cr_id=8851932730701&pd_rd_plhdr=t&pd_rd_r=bc113f11-17f7-4088-8e77-5e88cfec821e&pd_rd_w=z9eUL&pd_rd_wg=LSiJ7&ref_=sbx_be_s_sparkle_lsi4d_asin_0_img). \n",
    "   \n",
    "   The data will be saved on a file called data.csv\n"
   ]
  },
  {
   "cell_type": "markdown",
   "metadata": {},
   "source": [
    "## Canopy Cover Data Uploading App\n",
    "\n",
    "This app was deployed for efficient processing of canopy cover images. The input code was based on:\n",
    "\n",
    "Patrignani, A. and Ochsner, T.E., 2015. Canopeo: A powerful new tool for measuring fractional green canopy cover. Agronomy Journal, 107(6), pp.2312-2320 \n",
    "   \n",
    "For using the app you will need a GoPro camera which you can connect into you smartphone. You will need an android smartphone, otherwise the QR scanner would be unavailable. \n",
    "\n",
    "#### Steps:\n",
    "    \n",
    " 1. Scan QR code in the plot stake\n",
    "    \n",
    " 2. Load the most recent file corresponded to the last picture you have taken with the Go Pro camera.\n",
    "    \n",
    " 3. Select the developmental stage of the crop at the moment you are taking the canopy picture. \n",
    "    \n",
    " 4. Click on LOAD CANOPY COVER DATAPOINT. By clicking this button the app will automatically process an algorithm to estimate canopy cover and save the datapoint in the computer in which you have the app running   \n",
    "    "
   ]
  },
  {
   "cell_type": "markdown",
   "metadata": {},
   "source": [
    "## Seed Counter and TKW calculation App\n",
    "\n",
    "This section of the app is still immature. Please, apologies for debugs that might be present on it.\n",
    "\n",
    "Shortly, this app runs an algorithm that detects each individual wheat grain placed over a white surface. Some considerations:\n",
    "\n",
    "   1. Make sure the backgroud does not include anything more then a white colors. For achieving this you can put together mutiple white paper sheets.\n",
    "   2. The image of the grains should be taken from the top lined up as much parallel as posible with the surface in which grain are located.\n",
    "   3. **AVOID SHADINGS!** Make sure when you are taking the picture no shades are present\n",
    "   4. Once you have the picture ready you can double check the grains arrangement on your paper sheet by clicking on **Check Grains Arrangement**. An image showing the grians contours will be displayed. If it does not similar to the pattern of grain the **picture needs to be re-taken or grains need to be re-arranged**\n",
    "   5. By clicking on **LOAD TKW DATAPOINT**, it will run a chunk of code for loading TKW data into a pre-determined file. "
   ]
  },
  {
   "cell_type": "markdown",
   "metadata": {},
   "source": [
    "# HARDWARE REQUIRED\n",
    "\n",
    "## <center> PRINTERS <center>\n",
    "\n",
    "Device required: **Brother QL-820NWB**\n",
    "    \n",
    "By seaching for \"Printers & scanners\" in your search box in Windows, then navigating into Printer Preferences you can set the label size you want to print.  **BIG labels default size is 2.4\"(h) x 3.9\"(w). SMALL labels are 1.4\"(h) x 3.5\"(w)**. \n",
    "    "
   ]
  },
  {
   "cell_type": "markdown",
   "metadata": {},
   "source": [
    "## <center> QR CODE SCANNER <center>\n",
    "\n",
    "#### Setting the QR scanner to your smartphone or computer\n",
    "\n",
    "  The labels can be read easy and fast with a [NETUM C750 QR CODE SCANNER](https://www.netum.net/es/pages/barcode-scanner-user-manuals). By following this [link](https://cdn.shopify.com/s/files/1/2144/8019/files/NETUM_C_Series_Quick_Start_Manual.pdf?v=1644138901) you can get access to the users guide. Shorly, you can scan the 2nd available barcode on the guide to set UBS mode in your computer (make sure you plugged in the USB port). If you are working from an Android smartphone you can connect via Bluetooth by scanning the 5th barcode in the users guide. \n",
    "    \n",
    "  When using the QR scanner in your Android smartphonne the keyboard language needs to be set to **ENGLISH**"
   ]
  }
 ],
 "metadata": {
  "kernelspec": {
   "display_name": "Python 3 (ipykernel)",
   "language": "python",
   "name": "python3"
  },
  "language_info": {
   "codemirror_mode": {
    "name": "ipython",
    "version": 3
   },
   "file_extension": ".py",
   "mimetype": "text/x-python",
   "name": "python",
   "nbconvert_exporter": "python",
   "pygments_lexer": "ipython3",
   "version": "3.9.7"
  }
 },
 "nbformat": 4,
 "nbformat_minor": 4
}
